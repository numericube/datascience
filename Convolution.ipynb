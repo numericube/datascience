{
 "cells": [
  {
   "cell_type": "code",
   "execution_count": 5,
   "metadata": {},
   "outputs": [],
   "source": [
    "import numpy as np\n",
    "%matplotlib inline\n",
    "import matplotlib.pyplot as plt\n",
    "plt.rcParams[\"figure.figsize\"] = (12, 9) # (w, h)\n",
    "import scipy\n",
    "import scipy.signal"
   ]
  },
  {
   "cell_type": "code",
   "execution_count": 96,
   "metadata": {},
   "outputs": [],
   "source": [
    "fake_image = np.array((\n",
    "    [1, 2, 3, 6, ],\n",
    "    [4, 5, 6, 6, ],\n",
    "    [7, 8, 9, 6, ],\n",
    "    [4, 5, 6, 6, ],\n",
    "))\n",
    "kernel = np.array((\n",
    "    [-1, -2, -1, ],\n",
    "    [0, 0, 0, ],\n",
    "    [1, 2, 1, ],\n",
    "))\n",
    "linear_i = fake_image.flatten()\n",
    "linear_k = kernel.flatten()"
   ]
  },
  {
   "cell_type": "code",
   "execution_count": 97,
   "metadata": {},
   "outputs": [
    {
     "data": {
      "text/plain": [
       "array([[-13, -20, -23, -18],\n",
       "       [-18, -24, -18,  -6],\n",
       "       [  0,   0,   0,   0],\n",
       "       [ 22,  32,  32,  21]])"
      ]
     },
     "execution_count": 97,
     "metadata": {},
     "output_type": "execute_result"
    }
   ],
   "source": [
    "scipy.signal.convolve2d(fake_image, kernel, mode='same')"
   ]
  },
  {
   "cell_type": "code",
   "execution_count": 263,
   "metadata": {},
   "outputs": [],
   "source": [
    "def abs(n):\n",
    "    if n > 0:\n",
    "        return n\n",
    "    return -n\n",
    "\n",
    "# algorithme babylonien: https://en.wikipedia.org/wiki/Methods_of_computing_square_roots#Babylonian_method\n",
    "def sqrt(n, precision = 0.001):\n",
    "    x = n / 2\n",
    "    diff = 1\n",
    "    while abs(diff) > precision:\n",
    "        new = 0.5 * (x + n / x)\n",
    "        diff = new - x\n",
    "        x = new\n",
    "    return int(x)\n",
    "\n",
    "# il suffit d'inverser l'order de la liste pour inverse la matrice représentée\n",
    "def invert(k):\n",
    "    result = [0] * len(k)\n",
    "    for i in range(len(k)):\n",
    "        result[i] = k[len(k) - 1 - i]\n",
    "    return result\n",
    "\n",
    "def convolution(x, k):\n",
    "    n = sqrt(len(x)) # calcul de l'ordre de la matrice x\n",
    "    m = sqrt(len(k)) # calcul de l'ordre de la matrice k\n",
    "    result = [0] * n * n\n",
    "    k = invert(k)\n",
    "    startShift = int(m / 2) # distance des bords de la matrice k au centre\n",
    "    for i in range(len(x)):\n",
    "\n",
    "        rowX = int(i / n)\n",
    "        colX = i % n\n",
    "        tmp = 0\n",
    "\n",
    "        for j in range(len(k)):\n",
    "            rowK = int(j / m)\n",
    "            colK = j % m\n",
    "            rowCur = rowK - startShift + rowX # ligne de l'élément à multiplier dans la matrice X\n",
    "            colCur = colK - startShift + colX # colonne de l'élément à multiplier dans la matrice X\n",
    "            if rowCur < 0 or rowCur >= n or colCur < 0 or colCur >= n:\n",
    "                continue\n",
    "            tmp += x[colCur + rowCur * n] * k[colK + rowK * m]\n",
    "            \n",
    "        result[i] = tmp\n",
    "    return result"
   ]
  },
  {
   "cell_type": "code",
   "execution_count": 264,
   "metadata": {},
   "outputs": [
    {
     "data": {
      "text/plain": [
       "[-13, -20, -23, -18, -18, -24, -18, -6, 0, 0, 0, 0, 22, 32, 32, 21]"
      ]
     },
     "execution_count": 264,
     "metadata": {},
     "output_type": "execute_result"
    }
   ],
   "source": [
    "convolution(list(linear_i), list(linear_k))"
   ]
  },
  {
   "cell_type": "code",
   "execution_count": 181,
   "metadata": {},
   "outputs": [
    {
     "data": {
      "text/plain": [
       "[-13, -20, -23, -18, -18, -24, -18, -6, 0, 0, 0, 0, 22, 32, 32, 21]"
      ]
     },
     "execution_count": 181,
     "metadata": {},
     "output_type": "execute_result"
    }
   ],
   "source": [
    "list(scipy.signal.convolve2d(fake_image, kernel, mode='same').flatten())"
   ]
  },
  {
   "cell_type": "code",
   "execution_count": null,
   "metadata": {},
   "outputs": [],
   "source": []
  }
 ],
 "metadata": {
  "kernelspec": {
   "display_name": "Python 3",
   "language": "python",
   "name": "python3"
  },
  "language_info": {
   "codemirror_mode": {
    "name": "ipython",
    "version": 3
   },
   "file_extension": ".py",
   "mimetype": "text/x-python",
   "name": "python",
   "nbconvert_exporter": "python",
   "pygments_lexer": "ipython3",
   "version": "3.6.3"
  }
 },
 "nbformat": 4,
 "nbformat_minor": 2
}
